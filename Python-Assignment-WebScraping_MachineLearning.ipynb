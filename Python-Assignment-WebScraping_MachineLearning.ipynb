{
 "cells": [
  {
   "cell_type": "markdown",
   "metadata": {},
   "source": [
    "# COMP47670 Assignment 2 - Student 20200891 - Connie Purcell"
   ]
  },
  {
   "cell_type": "markdown",
   "metadata": {},
   "source": [
    "## Installing and importing required packages"
   ]
  },
  {
   "cell_type": "code",
   "execution_count": 1,
   "metadata": {},
   "outputs": [
    {
     "name": "stdout",
     "output_type": "stream",
     "text": [
      "Requirement already satisfied: nltk in c:\\users\\user\\anaconda3\\lib\\site-packages (3.6.1)\n",
      "Requirement already satisfied: joblib in c:\\users\\user\\anaconda3\\lib\\site-packages (from nltk) (1.0.1)\n",
      "Requirement already satisfied: regex in c:\\users\\user\\anaconda3\\lib\\site-packages (from nltk) (2021.4.4)\n",
      "Requirement already satisfied: tqdm in c:\\users\\user\\anaconda3\\lib\\site-packages (from nltk) (4.59.0)\n",
      "Requirement already satisfied: click in c:\\users\\user\\anaconda3\\lib\\site-packages (from nltk) (7.1.2)\n",
      "Requirement already satisfied: sklearn in c:\\users\\user\\anaconda3\\lib\\site-packages (0.0)\n",
      "Requirement already satisfied: scikit-learn in c:\\users\\user\\anaconda3\\lib\\site-packages (from sklearn) (0.24.1)\n",
      "Requirement already satisfied: threadpoolctl>=2.0.0 in c:\\users\\user\\anaconda3\\lib\\site-packages (from scikit-learn->sklearn) (2.1.0)\n",
      "Requirement already satisfied: joblib>=0.11 in c:\\users\\user\\anaconda3\\lib\\site-packages (from scikit-learn->sklearn) (1.0.1)\n",
      "Requirement already satisfied: scipy>=0.19.1 in c:\\users\\user\\anaconda3\\lib\\site-packages (from scikit-learn->sklearn) (1.6.2)\n",
      "Requirement already satisfied: numpy>=1.13.3 in c:\\users\\user\\anaconda3\\lib\\site-packages (from scikit-learn->sklearn) (1.20.2)\n",
      "Requirement already satisfied: matplotlib in c:\\users\\user\\anaconda3\\lib\\site-packages (3.4.1)\n",
      "Requirement already satisfied: numpy>=1.16 in c:\\users\\user\\anaconda3\\lib\\site-packages (from matplotlib) (1.20.2)\n",
      "Requirement already satisfied: pillow>=6.2.0 in c:\\users\\user\\anaconda3\\lib\\site-packages (from matplotlib) (8.2.0)\n",
      "Requirement already satisfied: cycler>=0.10 in c:\\users\\user\\anaconda3\\lib\\site-packages (from matplotlib) (0.10.0)\n",
      "Requirement already satisfied: kiwisolver>=1.0.1 in c:\\users\\user\\anaconda3\\lib\\site-packages (from matplotlib) (1.3.1)\n",
      "Requirement already satisfied: python-dateutil>=2.7 in c:\\users\\user\\anaconda3\\lib\\site-packages (from matplotlib) (2.8.1)\n",
      "Requirement already satisfied: pyparsing>=2.2.1 in c:\\users\\user\\anaconda3\\lib\\site-packages (from matplotlib) (2.4.7)\n",
      "Requirement already satisfied: six in c:\\users\\user\\anaconda3\\lib\\site-packages (from cycler>=0.10->matplotlib) (1.15.0)\n",
      "Requirement already satisfied: mlxtend in c:\\users\\user\\anaconda3\\lib\\site-packages (0.18.0)\n",
      "Requirement already satisfied: matplotlib>=3.0.0 in c:\\users\\user\\anaconda3\\lib\\site-packages (from mlxtend) (3.4.1)\n",
      "Requirement already satisfied: joblib>=0.13.2 in c:\\users\\user\\anaconda3\\lib\\site-packages (from mlxtend) (1.0.1)\n",
      "Requirement already satisfied: scikit-learn>=0.20.3 in c:\\users\\user\\anaconda3\\lib\\site-packages (from mlxtend) (0.24.1)\n",
      "Requirement already satisfied: numpy>=1.16.2 in c:\\users\\user\\anaconda3\\lib\\site-packages (from mlxtend) (1.20.2)\n",
      "Requirement already satisfied: pandas>=0.24.2 in c:\\users\\user\\anaconda3\\lib\\site-packages (from mlxtend) (1.2.4)\n",
      "Requirement already satisfied: scipy>=1.2.1 in c:\\users\\user\\anaconda3\\lib\\site-packages (from mlxtend) (1.6.2)\n",
      "Requirement already satisfied: setuptools in c:\\users\\user\\anaconda3\\lib\\site-packages (from mlxtend) (52.0.0.post20210125)\n",
      "Requirement already satisfied: kiwisolver>=1.0.1 in c:\\users\\user\\anaconda3\\lib\\site-packages (from matplotlib>=3.0.0->mlxtend) (1.3.1)\n",
      "Requirement already satisfied: python-dateutil>=2.7 in c:\\users\\user\\anaconda3\\lib\\site-packages (from matplotlib>=3.0.0->mlxtend) (2.8.1)\n",
      "Requirement already satisfied: cycler>=0.10 in c:\\users\\user\\anaconda3\\lib\\site-packages (from matplotlib>=3.0.0->mlxtend) (0.10.0)\n",
      "Requirement already satisfied: pyparsing>=2.2.1 in c:\\users\\user\\anaconda3\\lib\\site-packages (from matplotlib>=3.0.0->mlxtend) (2.4.7)\n",
      "Requirement already satisfied: pillow>=6.2.0 in c:\\users\\user\\anaconda3\\lib\\site-packages (from matplotlib>=3.0.0->mlxtend) (8.2.0)\n",
      "Requirement already satisfied: six in c:\\users\\user\\anaconda3\\lib\\site-packages (from cycler>=0.10->matplotlib>=3.0.0->mlxtend) (1.15.0)\n",
      "Requirement already satisfied: pytz>=2017.3 in c:\\users\\user\\anaconda3\\lib\\site-packages (from pandas>=0.24.2->mlxtend) (2021.1)\n",
      "Requirement already satisfied: threadpoolctl>=2.0.0 in c:\\users\\user\\anaconda3\\lib\\site-packages (from scikit-learn>=0.20.3->mlxtend) (2.1.0)\n"
     ]
    }
   ],
   "source": [
    "! python -m pip install nltk\n",
    "! python -m pip install sklearn\n",
    "! python -m pip install matplotlib\n",
    "! python -m pip install mlxtend"
   ]
  },
  {
   "cell_type": "code",
   "execution_count": 2,
   "metadata": {},
   "outputs": [],
   "source": [
    "import os\n",
    "import urllib.request\n",
    "import csv\n",
    "import pandas as pd\n",
    "import json\n",
    "import requests\n",
    "import numpy as np\n",
    "import matplotlib\n",
    "import matplotlib.pyplot as plt\n",
    "import nltk\n",
    "from bs4 import BeautifulSoup\n",
    "from collections import Counter\n",
    "import sklearn as sk\n",
    "from sklearn.pipeline import Pipeline\n",
    "from sklearn import metrics\n",
    "from sklearn.model_selection import cross_val_score\n",
    "from sklearn.model_selection import train_test_split\n",
    "from sklearn.metrics import accuracy_score, classification_report, confusion_matrix\n",
    "from sklearn.linear_model import LogisticRegression\n",
    "from sklearn.neighbors import KNeighborsClassifier\n",
    "from sklearn.tree import DecisionTreeClassifier\n",
    "from sklearn.ensemble import RandomForestClassifier\n",
    "from sklearn.naive_bayes import MultinomialNB\n",
    "from sklearn.ensemble import GradientBoostingClassifier\n",
    "from sklearn.feature_extraction.text import CountVectorizer, TfidfVectorizer\n",
    "from sklearn.feature_extraction import text\n",
    "from sklearn.metrics.pairwise import cosine_similarity\n",
    "from sklearn.datasets import load_files\n",
    "from sklearn.linear_model import SGDClassifier\n",
    "from sklearn.linear_model import LogisticRegression\n",
    "from sklearn.feature_extraction.text import TfidfTransformer\n",
    "from sklearn.preprocessing import StandardScaler\n",
    "from sklearn.pipeline import make_pipeline\n",
    "from sklearn.metrics import mean_squared_error\n",
    "from mlxtend.plotting import plot_confusion_matrix\n",
    "from sklearn.model_selection import GridSearchCV\n",
    "from sklearn import linear_model"
   ]
  },
  {
   "cell_type": "markdown",
   "metadata": {},
   "source": [
    "## <font color=red>Task 1: Data Collection</font> "
   ]
  },
  {
   "cell_type": "markdown",
   "metadata": {},
   "source": [
    "### First I will use requests package to get the website information"
   ]
  },
  {
   "cell_type": "code",
   "execution_count": 3,
   "metadata": {},
   "outputs": [],
   "source": [
    "#Using requests function to get website html data\n",
    "ucdnews = requests.get(\"http://mlg.ucd.ie/modules/COMP41680/assignment2/month-jan-001.html\") \n"
   ]
  },
  {
   "cell_type": "markdown",
   "metadata": {},
   "source": [
    "### Checking the response to see if I was successful in requesting the website information, response status \"200\". If unsuccessful I would get error 404 status"
   ]
  },
  {
   "cell_type": "code",
   "execution_count": 4,
   "metadata": {},
   "outputs": [
    {
     "data": {
      "text/plain": [
       "<Response [200]>"
      ]
     },
     "execution_count": 4,
     "metadata": {},
     "output_type": "execute_result"
    }
   ],
   "source": [
    "ucdnews #Output is response 200 so successfully requested website"
   ]
  },
  {
   "cell_type": "markdown",
   "metadata": {},
   "source": [
    "### Creating a for loop to run through the url link and edit it in order to get all the article data saved to a list. Then saving the information I need to a dictionary and appending my list with this selected information."
   ]
  },
  {
   "cell_type": "code",
   "execution_count": 5,
   "metadata": {},
   "outputs": [],
   "source": [
    "months = [\"jan\", \"feb\", \"mar\", \"apr\", \"may\", \"jun\", \"jul\", \"aug\", \"sep\", \"oct\", \"nov\", \"dec\"] #Making list of months\n",
    "article_list = []  #Making empty list for the article data\n",
    "\n",
    "for month in months:  #Creating for loop to loop through and edit url in order to grab article for each month page\n",
    "    number = \"000\"\n",
    "    status = 200     #Status 200 means website url exists and successful, so if not 200 means we can stop looping numbers and cheange month.\n",
    "    while status == 200:\n",
    "        number = str(int(number)+1).zfill(3) #Change \"000\" string to an integer and add 1, then add 0s so it is 3 digits and then convert back to string\n",
    "        url = \"http://mlg.ucd.ie/modules/COMP41680/assignment2/month-\" + month + \"-\" + number + \".html\"  #url is the url from website, plus month list, -, number variable and .html\n",
    "        url_ucd_req = requests.get(url) #request the url data\n",
    "        status = url_ucd_req.status_code #check the status of url, so loop continues and stops when reaches 404 status and then loops to next month etc.\n",
    "\n",
    "    \n",
    "        ucd_news_content = url_ucd_req.content #variable to save the requested url response content \n",
    "        ucd_soup = BeautifulSoup(ucd_news_content, 'html.parser') #Using the Beautiful Soup package to pull the response content data from the url to the variable ucd_soup and parse it\n",
    "        mydivs = ucd_soup.find_all(\"div\", {\"class\": \"article\"}) #Searching ucd_soup to find all div tag content with the class \"article\"\n",
    "\n",
    "        for article_block in mydivs: #Running another For loop to get only the website article data needed, the title, date, category and snippet.\n",
    "            title = article_block.find('a').text.encode(\"ascii\", \"ignore\").decode().replace(\"  \",\" \") #Find and grab the a tag article text data and remove unicode from this data, remove double spaces and replace with one space. Cleaning data.\n",
    "            mydates = article_block.find_all('p',{\"class\":\"metadata\"})[0].text #Find and grab the dates text data. P tag, metadata class also has category info, so only select first element of p metadata\n",
    "            mycategory = article_block.find_all('p',{\"class\":\"metadata\"})[1].text.replace(\"Category: \",\"\") #Find and grab the category text data. P tag, metadata class also has dates info, so only select second element of p metadata in article chunk. Also remove \"Category:\" from text\n",
    "            snip = article_block.find('p',{\"class\":\"snippet\"}).text.encode(\"ascii\", \"ignore\").decode().replace(\"  \",\" \") #Find and grab the p tag snippet text data and remove unicode from this data, remove double spaces and replace with one space. Cleaning data.\n",
    "\n",
    "\n",
    "            #Create article dictionary assigning variables created in previous loop \n",
    "            article_dict = {\n",
    "              \"title\": title,\n",
    "              \"date\": mydates,\n",
    "              \"category\": mycategory,\n",
    "               \"snippet\": snip, \n",
    "            } \n",
    "\n",
    "            article_list.append(article_dict)  #Append article list with dictionary info to organise data\n",
    "            "
   ]
  },
  {
   "cell_type": "markdown",
   "metadata": {},
   "source": [
    "### Now that we have article data saved to a list, we now need to filter this data to only grab articles with 3 different categories: UK News, Books and Music Categories"
   ]
  },
  {
   "cell_type": "code",
   "execution_count": 6,
   "metadata": {},
   "outputs": [],
   "source": [
    "categories = [\"UK-News\", \"Books\", \"Music\"] #Creating list with the categories we want; Books, Music and UK News\n",
    "articles = article_list #Saving our article_list data from previous step to a variable articles\n",
    "article_approved = [] #Empty list to save our new filtered articles\n",
    "\n",
    "for article in articles:\n",
    "    category_get = article[\"category\"]  #Check category in articles\n",
    "    if category_get in categories:   #If the category in article we checked is in the list categories above...\n",
    "        article_approved.append(article) #Append our empty list article_approved with the article checked. If not nothing happens\n",
    "        "
   ]
  },
  {
   "cell_type": "markdown",
   "metadata": {},
   "source": [
    "### Convert our list of filtered articles into a JSON File"
   ]
  },
  {
   "cell_type": "code",
   "execution_count": 7,
   "metadata": {},
   "outputs": [],
   "source": [
    "temp = json.dumps(article_approved, indent=1) #Convert our list containing filtered article data into a JSON strings"
   ]
  },
  {
   "cell_type": "code",
   "execution_count": 8,
   "metadata": {},
   "outputs": [],
   "source": [
    "jsonFile = open(\"article.json\", \"w\")\n",
    "jsonFile.write(temp)\n",
    "jsonFile.close()\n",
    "#Saving our JSON strings from JSON dumps into a JSON file, so we can view the data and see if it is filtered and formatted correctly"
   ]
  },
  {
   "cell_type": "markdown",
   "metadata": {},
   "source": [
    "##  <font color=red>Task 2: Binary Text Classification</font> "
   ]
  },
  {
   "cell_type": "markdown",
   "metadata": {},
   "source": [
    "### Load the data from Task 1 and create a set of documents, one per news story. Each document should consist of the concatenation of the story’s title and text snippet. Each document should also have a class label, based on the story’s news category."
   ]
  },
  {
   "cell_type": "markdown",
   "metadata": {},
   "source": [
    "#### For this I have created a data frame, each row is a \"seperate document\" with the story title and snippet and category label"
   ]
  },
  {
   "cell_type": "code",
   "execution_count": 9,
   "metadata": {},
   "outputs": [],
   "source": [
    "dataframe = pd.DataFrame(article_approved) \n",
    "#Converting list to a pandas dataframe as I am happy with the JSON output of the approved articles list\n",
    "\n",
    "dataframe = dataframe.drop(columns='date') #Drop \"date\" column as not needed for classification tasks"
   ]
  },
  {
   "cell_type": "markdown",
   "metadata": {},
   "source": [
    "### Now that we have a dataframe I need to filter it to only have two categories for Binary Text Classification. I also need to amend the dataframe to have a numeric representative of the two types of category."
   ]
  },
  {
   "cell_type": "code",
   "execution_count": 10,
   "metadata": {},
   "outputs": [],
   "source": [
    "dataframe = dataframe.sort_values('category') #Sort dataframe by category\n",
    "\n",
    "dataframe['cat_id'] = (dataframe.groupby(['category']).cumcount()==0).astype(int) #Create new column of cat_id with integer count of categories\n",
    "\n",
    "dataframe['cat_id'] = dataframe['cat_id'].cumsum() #Cumulative sum of categories as value in cat_id column. Numeric representation categories\n"
   ]
  },
  {
   "cell_type": "code",
   "execution_count": 11,
   "metadata": {},
   "outputs": [],
   "source": [
    "dataframe_bi = dataframe.loc[dataframe['cat_id'] < 3] #Create new data frame with only 2 categories, categories with id less than 3"
   ]
  },
  {
   "cell_type": "code",
   "execution_count": 12,
   "metadata": {},
   "outputs": [
    {
     "data": {
      "text/html": [
       "<div>\n",
       "<style scoped>\n",
       "    .dataframe tbody tr th:only-of-type {\n",
       "        vertical-align: middle;\n",
       "    }\n",
       "\n",
       "    .dataframe tbody tr th {\n",
       "        vertical-align: top;\n",
       "    }\n",
       "\n",
       "    .dataframe thead th {\n",
       "        text-align: right;\n",
       "    }\n",
       "</style>\n",
       "<table border=\"1\" class=\"dataframe\">\n",
       "  <thead>\n",
       "    <tr style=\"text-align: right;\">\n",
       "      <th></th>\n",
       "      <th>title</th>\n",
       "      <th>category</th>\n",
       "      <th>snippet</th>\n",
       "      <th>cat_id</th>\n",
       "    </tr>\n",
       "  </thead>\n",
       "  <tbody>\n",
       "    <tr>\n",
       "      <th>2354</th>\n",
       "      <td>Clothes and Other Things that Matter by Alexan...</td>\n",
       "      <td>Books</td>\n",
       "      <td>Summary: Alexandra Shulmans introduction to he...</td>\n",
       "      <td>1</td>\n",
       "    </tr>\n",
       "    <tr>\n",
       "      <th>2259</th>\n",
       "      <td>Orwell prize for fiction shortlist replays 201...</td>\n",
       "      <td>Books</td>\n",
       "      <td>The clash between Bernardine Evaristos Girl, W...</td>\n",
       "      <td>1</td>\n",
       "    </tr>\n",
       "    <tr>\n",
       "      <th>3970</th>\n",
       "      <td>Missing voices: guide to female philosophers c...</td>\n",
       "      <td>Books</td>\n",
       "      <td>Summary: Two philosophy graduates are bringing...</td>\n",
       "      <td>1</td>\n",
       "    </tr>\n",
       "    <tr>\n",
       "      <th>3971</th>\n",
       "      <td>Bluebird by Malcolm Knox review vivid characte...</td>\n",
       "      <td>Books</td>\n",
       "      <td>Just a short drive from the sprawling suburbs ...</td>\n",
       "      <td>1</td>\n",
       "    </tr>\n",
       "    <tr>\n",
       "      <th>1334</th>\n",
       "      <td>Poetry book of the month: Loss by David Harsen...</td>\n",
       "      <td>Books</td>\n",
       "      <td>This is a long watch of a poem, a tormented vi...</td>\n",
       "      <td>1</td>\n",
       "    </tr>\n",
       "    <tr>\n",
       "      <th>...</th>\n",
       "      <td>...</td>\n",
       "      <td>...</td>\n",
       "      <td>...</td>\n",
       "      <td>...</td>\n",
       "    </tr>\n",
       "    <tr>\n",
       "      <th>2352</th>\n",
       "      <td>The 100 greatest UK No 1s: No 6, Michael Jacks...</td>\n",
       "      <td>Music</td>\n",
       "      <td>Billie Jean is not cancelled. Whatever persona...</td>\n",
       "      <td>2</td>\n",
       "    </tr>\n",
       "    <tr>\n",
       "      <th>2353</th>\n",
       "      <td>Whit Dickey Trio: Expanding Light review pin-s...</td>\n",
       "      <td>Music</td>\n",
       "      <td>Summary: A post-Coltrane coterie of American f...</td>\n",
       "      <td>2</td>\n",
       "    </tr>\n",
       "    <tr>\n",
       "      <th>811</th>\n",
       "      <td>James Blunt review beige balladeer turns up th...</td>\n",
       "      <td>Music</td>\n",
       "      <td>Summary: Having a global smash as couple-frien...</td>\n",
       "      <td>2</td>\n",
       "    </tr>\n",
       "    <tr>\n",
       "      <th>2330</th>\n",
       "      <td>Add some township jive! How London's jazz scen...</td>\n",
       "      <td>Music</td>\n",
       "      <td>Although its live scene is currently on pause,...</td>\n",
       "      <td>2</td>\n",
       "    </tr>\n",
       "    <tr>\n",
       "      <th>2355</th>\n",
       "      <td>Sophie Ellis-Bextor's lockdown listening: 'A c...</td>\n",
       "      <td>Music</td>\n",
       "      <td>Summary: Time alone has been in short supply. ...</td>\n",
       "      <td>2</td>\n",
       "    </tr>\n",
       "  </tbody>\n",
       "</table>\n",
       "<p>3618 rows × 4 columns</p>\n",
       "</div>"
      ],
      "text/plain": [
       "                                                  title category  \\\n",
       "2354  Clothes and Other Things that Matter by Alexan...    Books   \n",
       "2259  Orwell prize for fiction shortlist replays 201...    Books   \n",
       "3970  Missing voices: guide to female philosophers c...    Books   \n",
       "3971  Bluebird by Malcolm Knox review vivid characte...    Books   \n",
       "1334  Poetry book of the month: Loss by David Harsen...    Books   \n",
       "...                                                 ...      ...   \n",
       "2352  The 100 greatest UK No 1s: No 6, Michael Jacks...    Music   \n",
       "2353  Whit Dickey Trio: Expanding Light review pin-s...    Music   \n",
       "811   James Blunt review beige balladeer turns up th...    Music   \n",
       "2330  Add some township jive! How London's jazz scen...    Music   \n",
       "2355  Sophie Ellis-Bextor's lockdown listening: 'A c...    Music   \n",
       "\n",
       "                                                snippet  cat_id  \n",
       "2354  Summary: Alexandra Shulmans introduction to he...       1  \n",
       "2259  The clash between Bernardine Evaristos Girl, W...       1  \n",
       "3970  Summary: Two philosophy graduates are bringing...       1  \n",
       "3971  Just a short drive from the sprawling suburbs ...       1  \n",
       "1334  This is a long watch of a poem, a tormented vi...       1  \n",
       "...                                                 ...     ...  \n",
       "2352  Billie Jean is not cancelled. Whatever persona...       2  \n",
       "2353  Summary: A post-Coltrane coterie of American f...       2  \n",
       "811   Summary: Having a global smash as couple-frien...       2  \n",
       "2330  Although its live scene is currently on pause,...       2  \n",
       "2355  Summary: Time alone has been in short supply. ...       2  \n",
       "\n",
       "[3618 rows x 4 columns]"
      ]
     },
     "metadata": {},
     "output_type": "display_data"
    }
   ],
   "source": [
    " display(dataframe_bi) #Viewing dataframe see if everything tranferred correctly"
   ]
  },
  {
   "cell_type": "code",
   "execution_count": 13,
   "metadata": {},
   "outputs": [
    {
     "data": {
      "text/plain": [
       "title       0\n",
       "category    0\n",
       "snippet     0\n",
       "cat_id      0\n",
       "dtype: int64"
      ]
     },
     "execution_count": 13,
     "metadata": {},
     "output_type": "execute_result"
    }
   ],
   "source": [
    "dataframe_bi.isnull().sum() #Checking there is no null values in dataframe"
   ]
  },
  {
   "cell_type": "markdown",
   "metadata": {},
   "source": [
    "### Creating data with the text data from title and snippet for classification and prediction, and target data of the categories aiming to predict. \n",
    "\n",
    "### Converting to list format for analysis purposes by classifiers"
   ]
  },
  {
   "cell_type": "code",
   "execution_count": 14,
   "metadata": {},
   "outputs": [],
   "source": [
    "bi_data = (dataframe_bi[\"title\"] + \" \" + dataframe_bi[\"snippet\"] ).tolist()\n",
    "bi_target = dataframe_bi[\"category\"].tolist() \n",
    "\n",
    "#Creating bi_data with title and snippet text to list. bi_target is variable of categories for prediction converted to list."
   ]
  },
  {
   "cell_type": "markdown",
   "metadata": {},
   "source": [
    "## First we will test the accuracy of a number of classifiers to determine which classifier we will use on our data for binary classification"
   ]
  },
  {
   "cell_type": "markdown",
   "metadata": {},
   "source": [
    "### We are going to be testing six different classifiers cross validation accuracy score to test which has the highest accuracy score to use as our final classifier for prediction. The six classifiers are:\n",
    "\n",
    "### 1. Stochastic Gradient Descent or \"SGD\" Classifier.\n",
    "\n",
    "### 2. k Nearest Neighbour or \"KN-n\" Classifier\n",
    "\n",
    "### 3. Decision Tree Classifier\n",
    "\n",
    "### 4. Naive Bayes Classifier\n",
    "\n",
    "### 5. Logistic Regression\n",
    "\n",
    "### 6. Gradient Boosting Classifier"
   ]
  },
  {
   "cell_type": "markdown",
   "metadata": {},
   "source": [
    "\n",
    "\n",
    "\n",
    "\n",
    "\n",
    "### We will use the pipeline function to transform the data for classification. Pipeline gives you a single interface for all 3 steps of transformation and resulting estimator. It encapsulates transformers and predictors inside.\n",
    "\n",
    "\n",
    "\n",
    "\n"
   ]
  },
  {
   "cell_type": "markdown",
   "metadata": {},
   "source": [
    "###  SGD Classifier.  "
   ]
  },
  {
   "cell_type": "code",
   "execution_count": 15,
   "metadata": {},
   "outputs": [],
   "source": [
    "seed = 123 #set seed number\n",
    "np.random.seed(seed) #set seed so numbers reported remain the same so my report makes sense!\n",
    "\n",
    "pipeline1 = Pipeline([\n",
    "    ('vec', CountVectorizer(stop_words=\"english\")),\n",
    "    ('clf', SGDClassifier())\n",
    "]) \n",
    "#Using pipeline function from sklearn to vectorise data using count vectoriser, removing common phrases in english language and apply SGD classifier\n",
    "\n",
    "SGDC1 = cross_val_score(pipeline1, bi_data, bi_target,\n",
    "cv=10, scoring=\"accuracy\").mean()\n",
    "\n",
    "#Evaluate SGD classifier by cross validation. Apply to full data and target labels for 10 folds, calculate accuracy scores mean.\n",
    "\n",
    "#Using pipeline function again to vectorise data using count vectoriser and TFIDF transformer and apply SGD classifier\n",
    "pipelineA = Pipeline([\n",
    "    ('vec', CountVectorizer(stop_words=\"english\")),\n",
    "    ('tfidf', TfidfTransformer(use_idf=True)),\n",
    "    ('clf', SGDClassifier())\n",
    "])\n",
    "\n",
    "SGDC2 = cross_val_score(pipelineA, bi_data, bi_target,\n",
    "cv=10, scoring=\"accuracy\").mean()\n",
    "#Evaluate SGD classifier including TFIDF transformer process by cross validation. Apply to full data and target labels for 10 folds, calculate accuracy scores mean."
   ]
  },
  {
   "cell_type": "code",
   "execution_count": 16,
   "metadata": {},
   "outputs": [
    {
     "name": "stdout",
     "output_type": "stream",
     "text": [
      "SGD Classifier Accuracy Score with Count Vectoriser 0.9040923769149538\n",
      "SGD Classifier Accuracy Score with TFIDF Transformer 0.9192956948929464\n"
     ]
    }
   ],
   "source": [
    "#Print out the mean of accuracy scores calculated in last code chunk\n",
    "print(\"SGD Classifier Accuracy Score with Count Vectoriser\", SGDC1)\n",
    "print(\"SGD Classifier Accuracy Score with TFIDF Transformer\", SGDC2)"
   ]
  },
  {
   "cell_type": "markdown",
   "metadata": {},
   "source": [
    "### KNn Classifier"
   ]
  },
  {
   "cell_type": "code",
   "execution_count": 17,
   "metadata": {},
   "outputs": [],
   "source": [
    "np.random.seed(seed) #set seed so numbers reported remain same\n",
    "\n",
    "pipeline2 = Pipeline([\n",
    "    ('vec', CountVectorizer(stop_words=\"english\")),\n",
    "    ('clf', KNeighborsClassifier(n_neighbors=3))\n",
    "]) #Using pipeline function from sklearn to vectorise data, removing common phrases in english language and apply k-Nearest Neighbour Classifier\n",
    "\n",
    "\n",
    "KNn1 = cross_val_score(pipeline2, bi_data, bi_target,\n",
    "cv=10, scoring=\"accuracy\").mean()\n",
    "#Evaluate KNN classifier by cross validation. Apply to full data and target labels for 10 folds, calculate accuracy scores mean.\n",
    "\n",
    "#Using pipeline function again to vectorise data using count vectoriser and TFIDF transformer and apply KNN classifier\n",
    "pipelineB = Pipeline([\n",
    "    ('vec', CountVectorizer(stop_words=\"english\")),\n",
    "    ('tfidf', TfidfTransformer(use_idf=True)),\n",
    "    ('clf', KNeighborsClassifier(n_neighbors=3))\n",
    "])\n",
    "\n",
    "KNn2 = cross_val_score(pipelineB, bi_data, bi_target,\n",
    "cv=10, scoring=\"accuracy\").mean()\n",
    "#Evaluate KNN classifier including TFIDF transformer process by cross validation. Apply to full data and target labels for 10 folds, calculate accuracy scores mean."
   ]
  },
  {
   "cell_type": "code",
   "execution_count": 18,
   "metadata": {},
   "outputs": [
    {
     "name": "stdout",
     "output_type": "stream",
     "text": [
      "KNN Classifier Accuracy Score with Count Vectoriser 0.6898784836473271\n",
      "KNN Classifier Accuracy Score with TFIDF Transformer 0.8217275523790576\n"
     ]
    }
   ],
   "source": [
    "#Print out the mean of accuracy scores calculated in last code chunk\n",
    "print(\"KNN Classifier Accuracy Score with Count Vectoriser\", KNn1)\n",
    "print(\"KNN Classifier Accuracy Score with TFIDF Transformer\", KNn2)"
   ]
  },
  {
   "cell_type": "markdown",
   "metadata": {},
   "source": [
    "### Decision Tree Classifier"
   ]
  },
  {
   "cell_type": "code",
   "execution_count": 21,
   "metadata": {},
   "outputs": [],
   "source": [
    "np.random.seed(seed) #set seed so numbers reported remain same\n",
    "\n",
    "pipeline3 = Pipeline([\n",
    "    ('vec', CountVectorizer(stop_words=\"english\")),\n",
    "    ('clf', DecisionTreeClassifier())\n",
    "]) \n",
    "#Using pipeline function from sklearn to vectorise data, removing common phrases in english language and apply Decision Tree Classifier\n",
    "\n",
    "Tree1 = cross_val_score(pipeline3, bi_data, bi_target,\n",
    "cv=10, scoring=\"accuracy\").mean()\n",
    "#Evaluate Decision Tree classifier by cross validation Apply to full data and target labels for 10 folds, calculate accuracy scores mean.\n",
    "\n",
    "\n",
    "pipelineC = Pipeline([\n",
    "    ('vec', CountVectorizer(stop_words=\"english\")),\n",
    "    ('tfidf', TfidfTransformer(use_idf=True)),\n",
    "    ('clf', DecisionTreeClassifier())\n",
    "])\n",
    "#Using pipeline function again to vectorise data using count vectoriser and TFIDF transformer and apply Decision Tree classifier\n",
    "\n",
    "Tree2 = cross_val_score(pipelineC, bi_data, bi_target,\n",
    "cv=10, scoring=\"accuracy\").mean()\n",
    "#Evaluate Decision Tree classifier including TFIDF transformer process by cross validation. Apply to full data and target labels for 10 folds, calculate accuracy scores mean."
   ]
  },
  {
   "cell_type": "code",
   "execution_count": 22,
   "metadata": {},
   "outputs": [
    {
     "name": "stdout",
     "output_type": "stream",
     "text": [
      "Decision Tree Classifier Accuracy Score with Count Vectoriser 0.8579329976584381\n",
      "Decision Tree Classifier Accuracy Score with TFIDF Transformer 0.8512970416736811\n"
     ]
    }
   ],
   "source": [
    "#Print out the mean of accuracy scores calculated in last code chunk\n",
    "print(\"Decision Tree Classifier Accuracy Score with Count Vectoriser\", Tree1)\n",
    "print(\"Decision Tree Classifier Accuracy Score with TFIDF Transformer\", Tree2)"
   ]
  },
  {
   "cell_type": "markdown",
   "metadata": {},
   "source": [
    "###  Naive Bayes Classifier"
   ]
  },
  {
   "cell_type": "code",
   "execution_count": 23,
   "metadata": {},
   "outputs": [],
   "source": [
    "np.random.seed(seed) #set seed so numbers reported remain same\n",
    "\n",
    "pipeline4 = Pipeline([\n",
    "    ('vec', CountVectorizer(stop_words=\"english\")),\n",
    "    ('clf', MultinomialNB())\n",
    "])\n",
    "#Using pipeline function from sklearn to vectorise data, removing common phrases in english language and apply Naive Bayes Classifier\n",
    "\n",
    "Bayes1 = cross_val_score(pipeline4, bi_data, bi_target,\n",
    "cv=10, scoring=\"accuracy\").mean()\n",
    "#Evaluate Naive Bayes classifier by cross validation Apply to full data and target labels for 10 folds, calculate accuracy scores mean.\n",
    "\n",
    "\n",
    "pipelineD = Pipeline([\n",
    "    ('vec', CountVectorizer(stop_words=\"english\")),\n",
    "    ('tfidf', TfidfTransformer(use_idf=True)),\n",
    "    ('clf', MultinomialNB())\n",
    "])\n",
    "\n",
    "#Using pipeline function again to vectorise data using count vectoriser and TFIDF transformer and apply Naive Bayes classifier\n",
    "\n",
    "Bayes2 = cross_val_score(pipelineD, bi_data, bi_target,\n",
    "cv=10, scoring=\"accuracy\").mean()\n",
    "\n",
    "#Evaluate Naive Bayes classifier including TFIDF transformer process by cross validation. Apply to full data and target labels for 10 folds, calculate accuracy scores mean.\n"
   ]
  },
  {
   "cell_type": "code",
   "execution_count": 24,
   "metadata": {},
   "outputs": [
    {
     "name": "stdout",
     "output_type": "stream",
     "text": [
      "Naive Bayes Classifier Accuracy Score with Count Vectoriser 0.9339411701688067\n",
      "Naive Bayes Classifier Accuracy Score with TFIDF Transformer 0.930901730919331\n"
     ]
    }
   ],
   "source": [
    "#Print out the mean of accuracy scores calculated in last code chunk\n",
    "print(\"Naive Bayes Classifier Accuracy Score with Count Vectoriser\", Bayes1)\n",
    "print(\"Naive Bayes Classifier Accuracy Score with TFIDF Transformer\", Bayes2)"
   ]
  },
  {
   "cell_type": "markdown",
   "metadata": {},
   "source": [
    "###  Logistic Regression"
   ]
  },
  {
   "cell_type": "code",
   "execution_count": 25,
   "metadata": {},
   "outputs": [],
   "source": [
    "np.random.seed(seed) #set seed so numbers reported remain same\n",
    "\n",
    "pipeline5 = Pipeline([\n",
    "    ('vec', CountVectorizer(stop_words=\"english\")),\n",
    "    ('clf', linear_model.LogisticRegression())\n",
    "])\n",
    "#Using pipeline function from sklearn to vectorise data, removing common phrases in english language and use logistic regression\n",
    "\n",
    "LogReg1 = cross_val_score(pipeline5, bi_data, bi_target,\n",
    "cv=10, scoring=\"accuracy\").mean()\n",
    "#Evaluate using Logistic Regression by cross validation Apply to full data and target labels for 10 folds, calculate accuracy scores mean.\n",
    "\n",
    "\n",
    "pipelineE = Pipeline([\n",
    "    ('vec', CountVectorizer(stop_words=\"english\")),\n",
    "    ('tfidf', TfidfTransformer(use_idf=True)),\n",
    "    ('clf', linear_model.LogisticRegression())\n",
    "])\n",
    "#Using pipeline function again to vectorise data using count vectoriser and TFIDF transformer and apply Logistic Regression\n",
    "\n",
    "LogReg2 = cross_val_score(pipelineE, bi_data, bi_target,\n",
    "cv=10, scoring=\"accuracy\").mean()\n",
    "\n",
    "#Evaluate Logistic Regression classification including TFIDF transformer process by cross validation. Apply to full data and target labels for 10 folds, calculate accuracy scores mean."
   ]
  },
  {
   "cell_type": "code",
   "execution_count": 26,
   "metadata": {},
   "outputs": [
    {
     "name": "stdout",
     "output_type": "stream",
     "text": [
      "Logistic Regression Accuracy Score with Count Vectoriser 0.9198481810807916\n",
      "Logistic Regression Accuracy Score with TFIDF Transformer 0.9289733857761588\n"
     ]
    }
   ],
   "source": [
    "#Print out the mean of accuracy scores calculated in last code chunk\n",
    "print(\"Logistic Regression Accuracy Score with Count Vectoriser\", LogReg1)\n",
    "print(\"Logistic Regression Accuracy Score with TFIDF Transformer\", LogReg2)"
   ]
  },
  {
   "cell_type": "markdown",
   "metadata": {},
   "source": [
    "### Gradient Boosting Classifier. "
   ]
  },
  {
   "cell_type": "code",
   "execution_count": 27,
   "metadata": {},
   "outputs": [],
   "source": [
    "np.random.seed(seed) #set seed so numbers reported remain same\n",
    "\n",
    "pipeline6 = Pipeline([\n",
    "    ('vec', CountVectorizer(stop_words=\"english\")),\n",
    "    ('clf', GradientBoostingClassifier())\n",
    "])\n",
    "#Using pipeline function from sklearn to vectorise data, removing common phrases in english language and use gradient boosting classifier\n",
    "\n",
    "GBoost_1 = cross_val_score(pipeline6, bi_data, bi_target,\n",
    "cv=10, scoring=\"accuracy\").mean()\n",
    "#Evaluate using gradient booster by cross validation. Apply to full data and target labels for 10 folds, calculate accuracy scores mean.\n",
    "\n",
    "pipelineF = Pipeline([\n",
    "    ('vec', CountVectorizer(stop_words=\"english\")),\n",
    "    ('tfidf', TfidfTransformer(use_idf=True)),\n",
    "    ('clf', GradientBoostingClassifier())\n",
    "     ])\n",
    "#Using pipeline function again to vectorise data using count vectoriser and TFIDF transformer and apply Gradient Boosting\n",
    "\n",
    "GBoost_2 = cross_val_score(pipelineF, bi_data, bi_target,\n",
    "cv=10, scoring=\"accuracy\").mean()\n",
    "#Evaluate Gradient Boosting classifier including TFIDF transformer process by cross validation. Apply to full data and target labels for 10 folds, calculate accuracy scores mean.\n"
   ]
  },
  {
   "cell_type": "code",
   "execution_count": 28,
   "metadata": {},
   "outputs": [
    {
     "name": "stdout",
     "output_type": "stream",
     "text": [
      "Gradient Boosting Accuracy Score with Count Vectoriser 0.8571012075113634\n",
      "Gradient Boosting Accuracy Score with TFIDF Transformer 0.8557123398784837\n"
     ]
    }
   ],
   "source": [
    "#Print out the mean of accuracy scores calculated in last code chunk\n",
    "print(\"Gradient Boosting Accuracy Score with Count Vectoriser\", GBoost_1)\n",
    "print(\"Gradient Boosting Accuracy Score with TFIDF Transformer\", GBoost_2)"
   ]
  },
  {
   "cell_type": "code",
   "execution_count": 29,
   "metadata": {},
   "outputs": [
    {
     "data": {
      "text/html": [
       "<div>\n",
       "<style scoped>\n",
       "    .dataframe tbody tr th:only-of-type {\n",
       "        vertical-align: middle;\n",
       "    }\n",
       "\n",
       "    .dataframe tbody tr th {\n",
       "        vertical-align: top;\n",
       "    }\n",
       "\n",
       "    .dataframe thead th {\n",
       "        text-align: right;\n",
       "    }\n",
       "</style>\n",
       "<table border=\"1\" class=\"dataframe\">\n",
       "  <thead>\n",
       "    <tr style=\"text-align: right;\">\n",
       "      <th></th>\n",
       "      <th>SGDC1</th>\n",
       "      <th>SGDC2</th>\n",
       "      <th>K Nearest Neighbour 1</th>\n",
       "      <th>K Nearest Neighbour2</th>\n",
       "      <th>Descision Tree 1</th>\n",
       "      <th>Decision Tree 2</th>\n",
       "      <th>Naive Bayes 1</th>\n",
       "      <th>Naive Bayes 2</th>\n",
       "      <th>Logistic Regression 1</th>\n",
       "      <th>Logistic Regression 2</th>\n",
       "      <th>Gradient Boosting 1</th>\n",
       "      <th>Gradient Boosting 2</th>\n",
       "    </tr>\n",
       "  </thead>\n",
       "  <tbody>\n",
       "    <tr>\n",
       "      <th>0</th>\n",
       "      <td>0.904092</td>\n",
       "      <td>0.919296</td>\n",
       "      <td>0.689878</td>\n",
       "      <td>0.821728</td>\n",
       "      <td>0.857933</td>\n",
       "      <td>0.851297</td>\n",
       "      <td>0.933941</td>\n",
       "      <td>0.930902</td>\n",
       "      <td>0.919848</td>\n",
       "      <td>0.928973</td>\n",
       "      <td>0.857101</td>\n",
       "      <td>0.855712</td>\n",
       "    </tr>\n",
       "  </tbody>\n",
       "</table>\n",
       "</div>"
      ],
      "text/plain": [
       "      SGDC1     SGDC2  K Nearest Neighbour 1  K Nearest Neighbour2  \\\n",
       "0  0.904092  0.919296               0.689878              0.821728   \n",
       "\n",
       "   Descision Tree 1  Decision Tree 2  Naive Bayes 1  Naive Bayes 2  \\\n",
       "0          0.857933         0.851297       0.933941       0.930902   \n",
       "\n",
       "   Logistic Regression 1  Logistic Regression 2  Gradient Boosting 1  \\\n",
       "0               0.919848               0.928973             0.857101   \n",
       "\n",
       "   Gradient Boosting 2  \n",
       "0             0.855712  "
      ]
     },
     "execution_count": 29,
     "metadata": {},
     "output_type": "execute_result"
    }
   ],
   "source": [
    "#Created a dataframe to easily compare the accuracy score values across classifiers to see which has the best accuracy score\n",
    "\n",
    "BinaryClassScore = pd.DataFrame([[SGDC1, SGDC2, KNn1, KNn2, Tree1, Tree2,Bayes1, Bayes2, LogReg1, LogReg2, GBoost_1, GBoost_2]],\n",
    "                                columns=['SGDC1','SGDC2','K Nearest Neighbour 1',\"K Nearest Neighbour2\",\"Descision Tree 1\", \"Decision Tree 2\", \"Naive Bayes 1\", \"Naive Bayes 2\", \"Logistic Regression 1\",  \"Logistic Regression 2\", \"Gradient Boosting 1\", \"Gradient Boosting 2\"])\n",
    "\n",
    "#Viewing Dataframe of results\n",
    "BinaryClassScore"
   ]
  },
  {
   "cell_type": "markdown",
   "metadata": {},
   "source": [
    "### According to the above scores the Naive Bayes model had the highest accuracy score without using the TFIDF Transformer, we will use this for our model classifier."
   ]
  },
  {
   "cell_type": "markdown",
   "metadata": {},
   "source": [
    "## Split the data into training and test data for final analysis by X classifier."
   ]
  },
  {
   "cell_type": "code",
   "execution_count": 33,
   "metadata": {},
   "outputs": [],
   "source": [
    "np.random.seed(seed) #set seed so numbers reported remain same\n",
    "\n",
    "data_train, data_test, target_train, target_test = train_test_split(bi_data, bi_target) \n",
    "#Splitting the data into training and test data for classification and prediction models"
   ]
  },
  {
   "cell_type": "markdown",
   "metadata": {},
   "source": [
    "## Use the training and test data for classification and prediction. Get accuracy score and classification report for evaluation."
   ]
  },
  {
   "cell_type": "code",
   "execution_count": 34,
   "metadata": {},
   "outputs": [],
   "source": [
    "np.random.seed(seed) #Set seed\n",
    "\n",
    "vectorizer = CountVectorizer(stop_words=\"english\", max_features=1000, decode_error=\"ignore\")  #Save count vectorizer and its parameters to variable \"vectorizer\"\n",
    "vectorizer.fit(data_train) #Apply vectorizer to training data, to tokenise or vectorise it\n",
    "Data_train_vectorized = vectorizer.transform(data_train) #Transform the training data into vectorized form\n",
    "\n",
    "cls = MultinomialNB() #Naive Bayes classifier saved to variable cls\n",
    "cls.fit(vectorizer.transform(data_train), target_train) #Fit the classification model transformed training data to the target data\n",
    "\n",
    "y_pred = cls.predict(vectorizer.transform(data_test)) #Use the classification model to predict the categories of the vectorised test data and save to variable\n"
   ]
  },
  {
   "cell_type": "markdown",
   "metadata": {},
   "source": [
    "## Confusion Matrix, Classification Report and Accuracy Score for Evaluation of Model"
   ]
  },
  {
   "cell_type": "code",
   "execution_count": 35,
   "metadata": {},
   "outputs": [
    {
     "name": "stdout",
     "output_type": "stream",
     "text": [
      "Accuracy Score of Naive Bayes prediction 0.907182320441989\n",
      "              precision    recall  f1-score   support\n",
      "\n",
      "       Books       0.92      0.90      0.91       468\n",
      "       Music       0.90      0.91      0.90       437\n",
      "\n",
      "    accuracy                           0.91       905\n",
      "   macro avg       0.91      0.91      0.91       905\n",
      "weighted avg       0.91      0.91      0.91       905\n",
      "\n"
     ]
    },
    {
     "name": "stderr",
     "output_type": "stream",
     "text": [
      "C:\\Users\\User\\anaconda3\\lib\\site-packages\\sklearn\\utils\\validation.py:70: FutureWarning: Pass labels=['Books', 'Music'] as keyword args. From version 1.0 (renaming of 0.25) passing these as positional arguments will result in an error\n",
      "  warnings.warn(f\"Pass {args_msg} as keyword args. From version \"\n"
     ]
    },
    {
     "data": {
      "image/png": "[encoded data removed]",
      "text/plain": [
       "<Figure size 432x288 with 2 Axes>"
      ]
     },
     "metadata": {
      "needs_background": "light"
     },
     "output_type": "display_data"
    }
   ],
   "source": [
    "np.random.seed(seed) #Set seed\n",
    "\n",
    "Accuracy_BiClass = (accuracy_score(target_test, y_pred)) #Calculate accuracy score for the predictions, data test predictions vs target test data\n",
    "Bi_Classification_Report =(classification_report(target_test, y_pred)) #Use classification report function to create report on model results\n",
    "\n",
    "print(\"Accuracy Score of Naive Bayes prediction\", Accuracy_BiClass) #Print accuracy score of Bi Classification Task\n",
    "print(Bi_Classification_Report) #Print classification report of Bi Classification Task\n",
    "\n",
    "\n",
    "labels = ['Books', 'Music'] #Create labels for confusion matrix, from categories in dataset\n",
    "cm = confusion_matrix(target_test, y_pred, labels) #Create confusion matrix with Bi Classification Task results\n",
    "classes = ['Books', 'Music'] #Create classes for plotting\n",
    "\n",
    "figure, ax = plot_confusion_matrix(conf_mat = cm, \n",
    "                                   class_names = classes,\n",
    "                                   show_absolute = True,\n",
    "                                   show_normed = True,\n",
    "                                   colorbar = True)  #Use Matplot to plot confusion matrix showing values and colour based on accuracy\n",
    "\n",
    "plt.show() #Show confusion matrix plot"
   ]
  },
  {
   "cell_type": "markdown",
   "metadata": {},
   "source": [
    "## Evaluation Report and Discussion"
   ]
  },
  {
   "cell_type": "markdown",
   "metadata": {},
   "source": [
    "### The accuracy score of our Naive Bayes model was 0.91, so 91% accuracy. Split between the two categories there was 0.01 of a difference between their scores so overall I would say our model was successful. \n",
    "\n",
    "### Similarly the confusion matrix illustrates the accuracy of the model as the False Positive and False Negative scores are low at 0.09-0.1. \n",
    "\n",
    "### Confusion Matrix Miscalculation Score is 0.093, further showing the models accuracy. (FP+FN/All values) So 9.28% Misclassification.\n",
    "\n",
    "### Precision score and recall or sensitivity scores are 90% or 91% which shows the model is accurate most of the time. "
   ]
  },
  {
   "cell_type": "markdown",
   "metadata": {},
   "source": [
    "## <font color=red>Task 3: Multi-Class Text Classification</font> "
   ]
  },
  {
   "cell_type": "markdown",
   "metadata": {},
   "source": [
    "### We will be using the dataframe we created previously that has numeric representation of each category and its documents."
   ]
  },
  {
   "cell_type": "code",
   "execution_count": 36,
   "metadata": {},
   "outputs": [
    {
     "data": {
      "text/html": [
       "<div>\n",
       "<style scoped>\n",
       "    .dataframe tbody tr th:only-of-type {\n",
       "        vertical-align: middle;\n",
       "    }\n",
       "\n",
       "    .dataframe tbody tr th {\n",
       "        vertical-align: top;\n",
       "    }\n",
       "\n",
       "    .dataframe thead th {\n",
       "        text-align: right;\n",
       "    }\n",
       "</style>\n",
       "<table border=\"1\" class=\"dataframe\">\n",
       "  <thead>\n",
       "    <tr style=\"text-align: right;\">\n",
       "      <th></th>\n",
       "      <th>title</th>\n",
       "      <th>category</th>\n",
       "      <th>snippet</th>\n",
       "      <th>cat_id</th>\n",
       "    </tr>\n",
       "  </thead>\n",
       "  <tbody>\n",
       "    <tr>\n",
       "      <th>2354</th>\n",
       "      <td>Clothes and Other Things that Matter by Alexan...</td>\n",
       "      <td>Books</td>\n",
       "      <td>Summary: Alexandra Shulmans introduction to he...</td>\n",
       "      <td>1</td>\n",
       "    </tr>\n",
       "    <tr>\n",
       "      <th>2259</th>\n",
       "      <td>Orwell prize for fiction shortlist replays 201...</td>\n",
       "      <td>Books</td>\n",
       "      <td>The clash between Bernardine Evaristos Girl, W...</td>\n",
       "      <td>1</td>\n",
       "    </tr>\n",
       "    <tr>\n",
       "      <th>3970</th>\n",
       "      <td>Missing voices: guide to female philosophers c...</td>\n",
       "      <td>Books</td>\n",
       "      <td>Summary: Two philosophy graduates are bringing...</td>\n",
       "      <td>1</td>\n",
       "    </tr>\n",
       "    <tr>\n",
       "      <th>3971</th>\n",
       "      <td>Bluebird by Malcolm Knox review vivid characte...</td>\n",
       "      <td>Books</td>\n",
       "      <td>Just a short drive from the sprawling suburbs ...</td>\n",
       "      <td>1</td>\n",
       "    </tr>\n",
       "    <tr>\n",
       "      <th>1334</th>\n",
       "      <td>Poetry book of the month: Loss by David Harsen...</td>\n",
       "      <td>Books</td>\n",
       "      <td>This is a long watch of a poem, a tormented vi...</td>\n",
       "      <td>1</td>\n",
       "    </tr>\n",
       "    <tr>\n",
       "      <th>...</th>\n",
       "      <td>...</td>\n",
       "      <td>...</td>\n",
       "      <td>...</td>\n",
       "      <td>...</td>\n",
       "    </tr>\n",
       "    <tr>\n",
       "      <th>3831</th>\n",
       "      <td>Geoffrey Parker obituary</td>\n",
       "      <td>UK-News</td>\n",
       "      <td>Summary: My father, Geoffrey Parker, who has d...</td>\n",
       "      <td>3</td>\n",
       "    </tr>\n",
       "    <tr>\n",
       "      <th>3825</th>\n",
       "      <td>UK commuters: share your experiences of travel...</td>\n",
       "      <td>UK-News</td>\n",
       "      <td>About 90% of train services were restored on M...</td>\n",
       "      <td>3</td>\n",
       "    </tr>\n",
       "    <tr>\n",
       "      <th>1507</th>\n",
       "      <td>Digested week: fear and loathing in coronaviru...</td>\n",
       "      <td>UK-News</td>\n",
       "      <td>Monday So here is how my typical day begins. I...</td>\n",
       "      <td>3</td>\n",
       "    </tr>\n",
       "    <tr>\n",
       "      <th>1459</th>\n",
       "      <td>Thousands of students stranded at university a...</td>\n",
       "      <td>UK-News</td>\n",
       "      <td>Thousands of students are stranded in universi...</td>\n",
       "      <td>3</td>\n",
       "    </tr>\n",
       "    <tr>\n",
       "      <th>0</th>\n",
       "      <td>Let's resolve to reconnect, says Welby in new ...</td>\n",
       "      <td>UK-News</td>\n",
       "      <td>The archbishop of Canterbury will urge people ...</td>\n",
       "      <td>3</td>\n",
       "    </tr>\n",
       "  </tbody>\n",
       "</table>\n",
       "<p>5413 rows × 4 columns</p>\n",
       "</div>"
      ],
      "text/plain": [
       "                                                  title category  \\\n",
       "2354  Clothes and Other Things that Matter by Alexan...    Books   \n",
       "2259  Orwell prize for fiction shortlist replays 201...    Books   \n",
       "3970  Missing voices: guide to female philosophers c...    Books   \n",
       "3971  Bluebird by Malcolm Knox review vivid characte...    Books   \n",
       "1334  Poetry book of the month: Loss by David Harsen...    Books   \n",
       "...                                                 ...      ...   \n",
       "3831                           Geoffrey Parker obituary  UK-News   \n",
       "3825  UK commuters: share your experiences of travel...  UK-News   \n",
       "1507  Digested week: fear and loathing in coronaviru...  UK-News   \n",
       "1459  Thousands of students stranded at university a...  UK-News   \n",
       "0     Let's resolve to reconnect, says Welby in new ...  UK-News   \n",
       "\n",
       "                                                snippet  cat_id  \n",
       "2354  Summary: Alexandra Shulmans introduction to he...       1  \n",
       "2259  The clash between Bernardine Evaristos Girl, W...       1  \n",
       "3970  Summary: Two philosophy graduates are bringing...       1  \n",
       "3971  Just a short drive from the sprawling suburbs ...       1  \n",
       "1334  This is a long watch of a poem, a tormented vi...       1  \n",
       "...                                                 ...     ...  \n",
       "3831  Summary: My father, Geoffrey Parker, who has d...       3  \n",
       "3825  About 90% of train services were restored on M...       3  \n",
       "1507  Monday So here is how my typical day begins. I...       3  \n",
       "1459  Thousands of students are stranded in universi...       3  \n",
       "0     The archbishop of Canterbury will urge people ...       3  \n",
       "\n",
       "[5413 rows x 4 columns]"
      ]
     },
     "execution_count": 36,
     "metadata": {},
     "output_type": "execute_result"
    }
   ],
   "source": [
    "dataframe #Viewing dataframe from previous section"
   ]
  },
  {
   "cell_type": "code",
   "execution_count": 37,
   "metadata": {},
   "outputs": [
    {
     "data": {
      "text/plain": [
       "title       0\n",
       "category    0\n",
       "snippet     0\n",
       "cat_id      0\n",
       "dtype: int64"
      ]
     },
     "execution_count": 37,
     "metadata": {},
     "output_type": "execute_result"
    }
   ],
   "source": [
    "dataframe.isnull().sum()  #Checking there is no null values in dataframe"
   ]
  },
  {
   "cell_type": "markdown",
   "metadata": {},
   "source": [
    "### Creating data with the text data from title and snippet for classification and prediction, and target data of the categories aiming to predict. \n",
    "\n",
    "### Converting to list format for analysis purposes by classifiers"
   ]
  },
  {
   "cell_type": "code",
   "execution_count": 38,
   "metadata": {},
   "outputs": [],
   "source": [
    "raw_data = (dataframe[\"title\"] + \" \" + dataframe[\"snippet\"] ).tolist()\n",
    "raw_target = dataframe[\"category\"].tolist()\n",
    "#Creating raw_data with title and snippet text to list. raw_target is variable of categories for prediction converted to list."
   ]
  },
  {
   "cell_type": "markdown",
   "metadata": {},
   "source": [
    "### We are going to be testing six different classifiers cross validation accuracy score to test which has the highest accuracy score to use as our final classifier for prediction. The six classifiers are:\n",
    "\n",
    "### 1. Stochastic Gradient Descent or \"SGD\" Classifier.\n",
    "\n",
    "### 2. k Nearest Neighbour or \"KN-n\" Classifier\n",
    "\n",
    "### 3. Decision Tree Classifier\n",
    "\n",
    "### 4. Naive Bayes Classifier\n",
    "\n",
    "### 5. Gradient Boosting Classifier\n",
    "\n",
    "### 6. Random Forest Classifier"
   ]
  },
  {
   "cell_type": "markdown",
   "metadata": {},
   "source": [
    "### We will use the pipelines created for the analysis of classifiers for binary classification, we will just update these pipelines to be cross validated when analysing the multi-class data sets. The only exception is Random Forest Classifier which we will have to create a new pipeline as it wasn't used in the last section."
   ]
  },
  {
   "cell_type": "markdown",
   "metadata": {},
   "source": [
    "###  SGD Classifier.  "
   ]
  },
  {
   "cell_type": "code",
   "execution_count": 39,
   "metadata": {},
   "outputs": [],
   "source": [
    "np.random.seed(seed) #Set seed\n",
    "\n",
    "SGDC_1 = cross_val_score(pipeline1, raw_data, raw_target,\n",
    "cv=10, scoring=\"accuracy\").mean()\n",
    "\n",
    "#Evaluate SGD classifier by cross validation Apply to full data and target labels for 10 folds, calculate accuracy scores.\n",
    "\n",
    "SGDC_2 = cross_val_score(pipelineA, raw_data, raw_target,\n",
    "cv=10, scoring=\"accuracy\").mean()\n",
    "\n",
    "#Evaluate SGD classifier including TFIDF transformer process by cross validation. Apply to full data and target labels for 10 folds, calculate accuracy scores mean.\n"
   ]
  },
  {
   "cell_type": "markdown",
   "metadata": {},
   "source": [
    "###  KN-N Classifier.  "
   ]
  },
  {
   "cell_type": "code",
   "execution_count": 40,
   "metadata": {},
   "outputs": [],
   "source": [
    "np.random.seed(seed) #Set seed\n",
    "\n",
    "KNN_1 = cross_val_score(pipeline2, raw_data, raw_target,\n",
    "cv=10, scoring=\"accuracy\").mean() \n",
    "#Evaluate KNn classifier by cross validation Apply to full data and target labels for 10 folds, calculate accuracy scores\n",
    "\n",
    "KNN_2 = cross_val_score(pipelineB, raw_data, raw_target,\n",
    "cv=10, scoring=\"accuracy\").mean()\n",
    "#Evaluate KNN classifier including TFIDF transformer process by cross validation. Apply to full data and target labels for 10 folds, calculate accuracy scores mean.\n"
   ]
  },
  {
   "cell_type": "markdown",
   "metadata": {},
   "source": [
    "###  Decision Tree Classifier.  "
   ]
  },
  {
   "cell_type": "code",
   "execution_count": 41,
   "metadata": {},
   "outputs": [],
   "source": [
    "np.random.seed(seed) #Set seed\n",
    "\n",
    "Tree_1 = cross_val_score(pipeline3, raw_data, raw_target,\n",
    "cv=10, scoring=\"accuracy\").mean()\n",
    "#Evaluate Decision Tree classifier by cross validation Apply to full data and target labels for 10 folds, calculate accuracy scores.\n",
    "\n",
    "Tree_2 = acc_scoresC = cross_val_score(pipelineC, raw_data, raw_target,\n",
    "cv=10, scoring=\"accuracy\").mean()\n",
    "#Evaluate Decision Tree classifier including TFIDF transformer process by cross validation. Apply to full data and target labels for 10 folds, calculate accuracy scores mean.\n"
   ]
  },
  {
   "cell_type": "markdown",
   "metadata": {},
   "source": [
    "###  Naive Bayes Classifier.  "
   ]
  },
  {
   "cell_type": "code",
   "execution_count": 42,
   "metadata": {},
   "outputs": [],
   "source": [
    "np.random.seed(seed) #Set seed\n",
    "\n",
    "Bayes_1 = cross_val_score(pipeline4, raw_data, raw_target,\n",
    "cv=10, scoring=\"accuracy\").mean()\n",
    "#Evaluate Naive Bayes classifier by cross validation Apply to full data and target labels for 10 folds, calculate accuracy scores.\n",
    "\n",
    "Bayes_2 = acc_scoresD = cross_val_score(pipelineD, raw_data, raw_target,\n",
    "cv=10, scoring=\"accuracy\").mean()\n",
    "#Evaluate Naive Bayes classifier including TFIDF transformer process by cross validation. Apply to full data and target labels for 10 folds, calculate accuracy scores mean.\n"
   ]
  },
  {
   "cell_type": "markdown",
   "metadata": {},
   "source": [
    "###  Gradient Boosting Classifier.  "
   ]
  },
  {
   "cell_type": "code",
   "execution_count": 43,
   "metadata": {},
   "outputs": [],
   "source": [
    "np.random.seed(seed) #Set seed\n",
    "\n",
    "GBoost_1 = cross_val_score(pipeline6, raw_data, raw_target,\n",
    "cv=10, scoring=\"accuracy\").mean()\n",
    "\n",
    "GBoost_2 = cross_val_score(pipelineF, raw_data, raw_target,\n",
    "cv=10, scoring=\"accuracy\").mean()\n",
    "\n",
    "#Evaluate Gradient Booster including TFIDF transformer process by cross validation. Apply to full data and target labels for 10 folds, calculate accuracy scores mean.\n",
    "\n"
   ]
  },
  {
   "cell_type": "markdown",
   "metadata": {},
   "source": [
    "###  Random Forest Classifier.  "
   ]
  },
  {
   "cell_type": "code",
   "execution_count": 44,
   "metadata": {},
   "outputs": [],
   "source": [
    "np.random.seed(seed) #Set seed\n",
    "\n",
    "pipeline7 = Pipeline([\n",
    "    ('vec', CountVectorizer(stop_words=\"english\")),\n",
    "    ('clf', RandomForestClassifier())\n",
    "])\n",
    "\n",
    "Forest_1 = cross_val_score(pipeline7, raw_data, raw_target,\n",
    "cv=10, scoring=\"accuracy\").mean()\n",
    "\n",
    "#Evaluate Random Forest classifier by cross validation Apply to full data and target labels for 10 folds, calculate accuracy scores.\n",
    "\n",
    "pipelineG = Pipeline([\n",
    "    ('vec', CountVectorizer(stop_words=\"english\")),\n",
    "    ('tfidf', TfidfTransformer(use_idf=True)),\n",
    "    ('clf', RandomForestClassifier())\n",
    "])\n",
    "\n",
    "Forest_2 = cross_val_score(pipelineG, raw_data, raw_target,\n",
    "cv=10, scoring=\"accuracy\").mean()\n",
    "\n",
    "#Evaluate Random Forest Classifier including TFIDF transformer process by cross validation. Apply to full data and target labels for 10 folds, calculate accuracy scores mean."
   ]
  },
  {
   "cell_type": "code",
   "execution_count": 45,
   "metadata": {},
   "outputs": [
    {
     "data": {
      "text/html": [
       "<div>\n",
       "<style scoped>\n",
       "    .dataframe tbody tr th:only-of-type {\n",
       "        vertical-align: middle;\n",
       "    }\n",
       "\n",
       "    .dataframe tbody tr th {\n",
       "        vertical-align: top;\n",
       "    }\n",
       "\n",
       "    .dataframe thead th {\n",
       "        text-align: right;\n",
       "    }\n",
       "</style>\n",
       "<table border=\"1\" class=\"dataframe\">\n",
       "  <thead>\n",
       "    <tr style=\"text-align: right;\">\n",
       "      <th></th>\n",
       "      <th>SGDC1</th>\n",
       "      <th>SGDC2</th>\n",
       "      <th>K Nearest Neighbour 1</th>\n",
       "      <th>K Nearest Neighbour2</th>\n",
       "      <th>Descision Tree 1</th>\n",
       "      <th>Decision Tree 2</th>\n",
       "      <th>Naive Bayes 1</th>\n",
       "      <th>Naive Bayes 2</th>\n",
       "      <th>Gradient Boosting 1</th>\n",
       "      <th>Gradient Boosting 2</th>\n",
       "      <th>Random Forest 1</th>\n",
       "      <th>Random Forest 2</th>\n",
       "    </tr>\n",
       "  </thead>\n",
       "  <tbody>\n",
       "    <tr>\n",
       "      <th>0</th>\n",
       "      <td>0.893587</td>\n",
       "      <td>0.907813</td>\n",
       "      <td>0.606676</td>\n",
       "      <td>0.796604</td>\n",
       "      <td>0.811195</td>\n",
       "      <td>0.793269</td>\n",
       "      <td>0.909289</td>\n",
       "      <td>0.902824</td>\n",
       "      <td>0.831321</td>\n",
       "      <td>0.827625</td>\n",
       "      <td>0.879179</td>\n",
       "      <td>0.876588</td>\n",
       "    </tr>\n",
       "  </tbody>\n",
       "</table>\n",
       "</div>"
      ],
      "text/plain": [
       "      SGDC1     SGDC2  K Nearest Neighbour 1  K Nearest Neighbour2  \\\n",
       "0  0.893587  0.907813               0.606676              0.796604   \n",
       "\n",
       "   Descision Tree 1  Decision Tree 2  Naive Bayes 1  Naive Bayes 2  \\\n",
       "0          0.811195         0.793269       0.909289       0.902824   \n",
       "\n",
       "   Gradient Boosting 1  Gradient Boosting 2  Random Forest 1  Random Forest 2  \n",
       "0             0.831321             0.827625         0.879179         0.876588  "
      ]
     },
     "execution_count": 45,
     "metadata": {},
     "output_type": "execute_result"
    }
   ],
   "source": [
    "#Created a dataframe to easily compare the accuracy score values across classifiers to see which has the best accuracy score\n",
    "\n",
    "MultiClassScore = pd.DataFrame([[SGDC_1,SGDC_2,KNN_1,KNN_2,Tree_1,Tree_2,Bayes_1, Bayes_2, GBoost_1, GBoost_2, Forest_1, Forest_2]],\n",
    "                               columns=['SGDC1','SGDC2','K Nearest Neighbour 1',\"K Nearest Neighbour2\",\"Descision Tree 1\", \"Decision Tree 2\", \"Naive Bayes 1\", \"Naive Bayes 2\", \"Gradient Boosting 1\", \"Gradient Boosting 2\", \"Random Forest 1\",  \"Random Forest 2\"])\n",
    "\n",
    "MultiClassScore #View dataframe of scores"
   ]
  },
  {
   "cell_type": "markdown",
   "metadata": {},
   "source": [
    "### According to the above scores the Naive Bayes model had the highest accuracy score once again without using the TFIDF Transformer, we will use this for our model classifier."
   ]
  },
  {
   "cell_type": "markdown",
   "metadata": {},
   "source": [
    "## Split the data into training and test data for final analysis by Naive Bayes classifier."
   ]
  },
  {
   "cell_type": "code",
   "execution_count": 46,
   "metadata": {},
   "outputs": [],
   "source": [
    "np.random.seed(seed) #Set seed\n",
    "\n",
    "X_train, X_test, y_train, y_test = train_test_split(raw_data, raw_target)\n",
    "#Splitting the data into training and test data for classification and prediction models"
   ]
  },
  {
   "cell_type": "markdown",
   "metadata": {},
   "source": [
    "## Use the training and test data for classification and prediction. Get accuracy score and classification report for evaluation."
   ]
  },
  {
   "cell_type": "code",
   "execution_count": 47,
   "metadata": {},
   "outputs": [],
   "source": [
    "np.random.seed(seed) #Set seed\n",
    "\n",
    "vectorizer.fit(X_train) #Apply vectorizer to training data, to tokenise or vectorise it\n",
    "X1_train_vectorized = vectorizer.transform(X_train) #Transform the training data into vectorized form\n",
    "\n",
    "cls = MultinomialNB() #Naive Bayes classifier saved to variable cls, just for clarity illustrating this again\n",
    "cls.fit(vectorizer.transform(X_train), y_train) #Fit the classification model transformed training data to the target data\n",
    "\n",
    "y1_pred = cls.predict(vectorizer.transform(X_test)) #Use the classification model to predict the categories of the vectorised test data and save to variable"
   ]
  },
  {
   "cell_type": "markdown",
   "metadata": {},
   "source": [
    "## Confusion Matrix, Classification Report and Accuracy Score for Evaluation of Model"
   ]
  },
  {
   "cell_type": "code",
   "execution_count": 49,
   "metadata": {},
   "outputs": [
    {
     "name": "stdout",
     "output_type": "stream",
     "text": [
      "Accuracy Score of Naive Bayes prediction 0.8744460856720827\n",
      "              precision    recall  f1-score   support\n",
      "\n",
      "       Books       0.85      0.89      0.87       444\n",
      "       Music       0.86      0.86      0.86       442\n",
      "     UK-News       0.91      0.87      0.89       468\n",
      "\n",
      "    accuracy                           0.87      1354\n",
      "   macro avg       0.87      0.87      0.87      1354\n",
      "weighted avg       0.88      0.87      0.87      1354\n",
      "\n"
     ]
    },
    {
     "name": "stderr",
     "output_type": "stream",
     "text": [
      "C:\\Users\\User\\anaconda3\\lib\\site-packages\\sklearn\\utils\\validation.py:70: FutureWarning: Pass labels=['Books', 'Music', 'UK-News'] as keyword args. From version 1.0 (renaming of 0.25) passing these as positional arguments will result in an error\n",
      "  warnings.warn(f\"Pass {args_msg} as keyword args. From version \"\n"
     ]
    },
    {
     "data": {
      "image/png": "[encoded data removed]",
      "text/plain": [
       "<Figure size 432x288 with 2 Axes>"
      ]
     },
     "metadata": {
      "needs_background": "light"
     },
     "output_type": "display_data"
    }
   ],
   "source": [
    "np.random.seed(seed) #Set seed\n",
    "\n",
    "Accuracy_MultiClass = (accuracy_score(y_test, y1_pred)) #Calculate accuracy score for the predictions, data test predictions vs target test data\n",
    "Multi_Classification_Report =(classification_report(y_test, y1_pred)) #Use classification report function to create report on model results\n",
    "\n",
    "print(\"Accuracy Score of Naive Bayes prediction\", Accuracy_MultiClass)  #Print accuracy score of Multi Classification Task\n",
    "print(Multi_Classification_Report) #Print classification report of Multi Classification Task\n",
    "\n",
    "\n",
    "labels=[\"Books\", \"Music\", \"UK-News\"] #Create labels for confusion matrix, from categories in dataset\n",
    "cm2 = confusion_matrix(y_test, y1_pred, labels) #Create confusion matrix with Bi Classification Task results\n",
    "classes2 = [\"Books\", \"Music\", \"UK-News\"] #Create classes for plotting\n",
    "\n",
    "figure, ax = plot_confusion_matrix(conf_mat = cm2,\n",
    "                                   class_names = classes2,\n",
    "                                   show_absolute = True,\n",
    "                                   show_normed = True,\n",
    "                                   colorbar = True) #Use Matplot to plot confusion matrix showing values and colour based on accuracy\n",
    "\n",
    "plt.show()  #Show confusion matrix plot\n"
   ]
  },
  {
   "cell_type": "markdown",
   "metadata": {},
   "source": [
    "## Evaluation Report and Discussion"
   ]
  },
  {
   "cell_type": "markdown",
   "metadata": {},
   "source": [
    "### The accuracy score of our Naive Bayes model was 0.87 or 87%. Naturally this accuracy score is lower than our bi-classification models accuracy score as adding more categories makes the classification and prediction tasks more difficult. However 87% accuracy is still a good score showing the model is mostly accurate. The model appears to be slightly more accurate with Book categorisation compared to Music and UK-News categories. \n",
    "\n",
    "### Similarly the confusion matrix illustrates the accuracy of the model. None of the False Positive and False Negative scores reach past 8%. "
   ]
  },
  {
   "cell_type": "markdown",
   "metadata": {},
   "source": [
    "### The accuracy score of our Naive Bayes model was 0.87 so 87% accuracy. Split between the two categories there was 0.01 of a difference between their scores so overall I would say our model was successful. \n",
    "\n",
    "### Similarly the confusion matrix illustrates the accuracy of the model as the False Positive and False Negative scores are low. lying between 4%-8%.\n",
    "\n",
    "### Confusion Matrix Miscalculation Score is 0.1267 or 12.67%, further showing the models accuracy. (FP+FN/All values) A miscalculation score of 12.67% is still relatively low, naturally this is higher than our last classification task as there are more categories to predict.\n",
    "\n",
    "### Precision score and recall or sensitivity scores are mostly around 87% which shows the model is accurate most of the time. "
   ]
  },
  {
   "cell_type": "code",
   "execution_count": null,
   "metadata": {},
   "outputs": [],
   "source": []
  }
 ],
 "metadata": {
  "kernelspec": {
   "display_name": "Python 3",
   "language": "python",
   "name": "python3"
  },
  "language_info": {
   "codemirror_mode": {
    "name": "ipython",
    "version": 3
   },
   "file_extension": ".py",
   "mimetype": "text/x-python",
   "name": "python",
   "nbconvert_exporter": "python",
   "pygments_lexer": "ipython3",
   "version": "3.8.5"
  }
 },
 "nbformat": 4,
 "nbformat_minor": 4
}
